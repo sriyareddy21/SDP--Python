{
 "cells": [
  {
   "cell_type": "code",
   "execution_count": null,
   "metadata": {},
   "outputs": [],
   "source": [
    "hours=input(\"enter hours\")\n",
    "try:\n",
    "input(hours)\n",
    "r=input(\"enter rate\")\n",
    "int(r)\n",
    "pay=hours*r\n",
    "int(pay)\n",
    "print(\"pay\",pay)\n",
    "except:\n",
    "print(\"enter a valid input\")"
   ]
  }
 ],
 "metadata": {
  "kernelspec": {
   "display_name": "Python 3",
   "language": "python",
   "name": "python3"
  },
  "language_info": {
   "codemirror_mode": {
    "name": "ipython",
    "version": 3
   },
   "file_extension": ".py",
   "mimetype": "text/x-python",
   "name": "python",
   "nbconvert_exporter": "python",
   "pygments_lexer": "ipython3",
   "version": "3.8.3"
  }
 },
 "nbformat": 4,
 "nbformat_minor": 4
}
