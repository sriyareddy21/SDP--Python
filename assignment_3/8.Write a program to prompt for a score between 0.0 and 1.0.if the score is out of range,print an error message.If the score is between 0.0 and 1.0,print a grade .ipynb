{
 "cells": [
  {
   "cell_type": "code",
   "execution_count": null,
   "metadata": {},
   "outputs": [],
   "source": [
    "input_score=raw_input(\"enter score between 0.0 and 1.0:\")\n",
    "try:\n",
    "if(float(input_score)>=0)and (float(input_score)<=1)\n",
    "print(\"valid input,thanks!\")\n",
    "else:\n",
    "print(error_msg_invalid)\n",
    "input_score=raw_input(\"enter score between 0.0 and 1.0:\")\n",
    "except:\n",
    "print(error_msg_invalid)\n",
    "input_score=raw_input(\"enter score between 0.0 and 1.0:\")\n",
    "input_score=float(input_score)\n",
    "if input_score<0.6:\n",
    "    print('F')\n",
    "elif input_score>=0.9:\n",
    "    print('A')\n",
    "elif input_score>=0.8:\n",
    "    print('B')\n",
    "elif input_score>=0.7:\n",
    "    print('C')\n",
    "elif input_score>=0.6:\n",
    "    print('D')\n",
    "else:\n",
    "    print(\"enter valid score\")\n",
    "    \n"
   ]
  }
 ],
 "metadata": {
  "kernelspec": {
   "display_name": "Python 3",
   "language": "python",
   "name": "python3"
  },
  "language_info": {
   "codemirror_mode": {
    "name": "ipython",
    "version": 3
   },
   "file_extension": ".py",
   "mimetype": "text/x-python",
   "name": "python",
   "nbconvert_exporter": "python",
   "pygments_lexer": "ipython3",
   "version": "3.8.3"
  }
 },
 "nbformat": 4,
 "nbformat_minor": 4
}
