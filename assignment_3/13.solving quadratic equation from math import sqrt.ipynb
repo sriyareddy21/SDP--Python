{
 "cells": [
  {
   "cell_type": "code",
   "execution_count": null,
   "metadata": {},
   "outputs": [],
   "source": [
    "print(\"Quadratic function:(a*x^2)+(b*x)+c\")\n",
    "a=float(input('a:'))\n",
    "b=float(input('b:'))\n",
    "c=float(input('c:'))\n",
    "r=b**2-4*a*c\n",
    "if r>0:\n",
    "    num_roots=2\n",
    "    x1=(((-b)+sqrt(r))/(2*a))\n",
    "    x2=(((-b)-sqrt(r))/(2*a))\n",
    "    print(\"there are 2 roots: %f and %f\" %(x1,x2))\n",
    "elif r=0:\n",
    "    num_roots=1\n",
    "    x=(-b)/2*a\n",
    "    print(\"there is one root:\"x)\n",
    "else:\n",
    "    num_roots=0\n",
    "    print(\"no roots,discriminant<0\")\n",
    "    exit()"
   ]
  },
  {
   "cell_type": "code",
   "execution_count": null,
   "metadata": {},
   "outputs": [],
   "source": []
  }
 ],
 "metadata": {
  "kernelspec": {
   "display_name": "Python 3",
   "language": "python",
   "name": "python3"
  },
  "language_info": {
   "codemirror_mode": {
    "name": "ipython",
    "version": 3
   },
   "file_extension": ".py",
   "mimetype": "text/x-python",
   "name": "python",
   "nbconvert_exporter": "python",
   "pygments_lexer": "ipython3",
   "version": "3.8.3"
  }
 },
 "nbformat": 4,
 "nbformat_minor": 4
}
