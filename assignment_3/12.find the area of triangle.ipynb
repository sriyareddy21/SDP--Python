{
 "cells": [
  {
   "cell_type": "code",
   "execution_count": null,
   "metadata": {},
   "outputs": [],
   "source": [
    "import math\n",
    "print(\"area of triangle\")\n",
    "a=int(input(\"enter the length of first side\"))\n",
    "b=int(input(\"enter the length of second side\"))\n",
    "c=int(input(\"enter the length og third side\"))\n",
    "p=(a+b+c)/2\n",
    "x=p-a\n",
    "y=p-b\n",
    "z=p-c\n",
    "t=p*x*y*z\n",
    "area=math.sqrt(t)\n",
    "print(\"area of triangle\",area)"
   ]
  }
 ],
 "metadata": {
  "kernelspec": {
   "display_name": "Python 3",
   "language": "python",
   "name": "python3"
  },
  "language_info": {
   "codemirror_mode": {
    "name": "ipython",
    "version": 3
   },
   "file_extension": ".py",
   "mimetype": "text/x-python",
   "name": "python",
   "nbconvert_exporter": "python",
   "pygments_lexer": "ipython3",
   "version": "3.8.3"
  }
 },
 "nbformat": 4,
 "nbformat_minor": 4
}
