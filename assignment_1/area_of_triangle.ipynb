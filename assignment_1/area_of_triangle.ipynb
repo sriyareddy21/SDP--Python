{
 "cells": [
  {
   "cell_type": "code",
   "execution_count": 1,
   "metadata": {},
   "outputs": [
    {
     "name": "stdout",
     "output_type": "stream",
     "text": [
      "enter the width of triangle2\n",
      "enter the height of triangle2\n",
      "area of triangle 2.0\n"
     ]
    }
   ],
   "source": [
    "w=float(input(\"enter the width of triangle\"))\n",
    "h=float(input(\"enter the height of triangle\"))\n",
    "a=0.5*w*h\n",
    "print(\"area of triangle\",a)"
   ]
  },
  {
   "cell_type": "code",
   "execution_count": null,
   "metadata": {},
   "outputs": [],
   "source": []
  }
 ],
 "metadata": {
  "kernelspec": {
   "display_name": "Python 3",
   "language": "python",
   "name": "python3"
  },
  "language_info": {
   "codemirror_mode": {
    "name": "ipython",
    "version": 3
   },
   "file_extension": ".py",
   "mimetype": "text/x-python",
   "name": "python",
   "nbconvert_exporter": "python",
   "pygments_lexer": "ipython3",
   "version": "3.8.3"
  }
 },
 "nbformat": 4,
 "nbformat_minor": 4
}
