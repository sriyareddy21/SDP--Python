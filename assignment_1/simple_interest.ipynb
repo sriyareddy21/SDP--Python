{
 "cells": [
  {
   "cell_type": "code",
   "execution_count": 1,
   "metadata": {},
   "outputs": [
    {
     "name": "stdout",
     "output_type": "stream",
     "text": [
      "enter the value of principle p1000\n",
      "enter the value of time t5\n",
      "enter the value of rate of interst r2\n",
      "simple interst is 100.0\n"
     ]
    }
   ],
   "source": [
    "p=float(input(\"enter the value of principle p\"))\n",
    "t=float(input(\"enter the value of time t\"))\n",
    "r=float(input(\"enter the value of rate of interst r\"))\n",
    "s=(p*t*r)/100\n",
    "print(\"simple interst is\",s)"
   ]
  },
  {
   "cell_type": "code",
   "execution_count": null,
   "metadata": {},
   "outputs": [],
   "source": []
  }
 ],
 "metadata": {
  "kernelspec": {
   "display_name": "Python 3",
   "language": "python",
   "name": "python3"
  },
  "language_info": {
   "codemirror_mode": {
    "name": "ipython",
    "version": 3
   },
   "file_extension": ".py",
   "mimetype": "text/x-python",
   "name": "python",
   "nbconvert_exporter": "python",
   "pygments_lexer": "ipython3",
   "version": "3.8.3"
  }
 },
 "nbformat": 4,
 "nbformat_minor": 4
}
