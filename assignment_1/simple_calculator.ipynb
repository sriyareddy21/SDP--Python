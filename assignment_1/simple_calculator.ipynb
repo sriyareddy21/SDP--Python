{
 "cells": [
  {
   "cell_type": "code",
   "execution_count": 2,
   "metadata": {},
   "outputs": [
    {
     "name": "stdout",
     "output_type": "stream",
     "text": [
      "enter a value2\n",
      "enter b value2\n",
      "the sum is 4\n",
      "difference is 0\n",
      "product is 4\n",
      "division is 1.0\n",
      "power is 4\n",
      "reminder is 0\n",
      "quotient is 1\n"
     ]
    }
   ],
   "source": [
    "a=int(input(\"enter a value\"))\n",
    "b=int(input(\"enter b value\"))\n",
    "c=a+b\n",
    "d=a-b\n",
    "e=a*b\n",
    "f=a/b\n",
    "g=a**b\n",
    "h=a%b\n",
    "i=a//b\n",
    "print(\"the sum is\",c)\n",
    "print(\"difference is\",d)\n",
    "print(\"product is\",e)\n",
    "print(\"division is\",f)\n",
    "print(\"power is\",g)\n",
    "print(\"reminder is\",h)\n",
    "print(\"quotient is\",i)"
   ]
  },
  {
   "cell_type": "code",
   "execution_count": null,
   "metadata": {},
   "outputs": [],
   "source": []
  }
 ],
 "metadata": {
  "kernelspec": {
   "display_name": "Python 3",
   "language": "python",
   "name": "python3"
  },
  "language_info": {
   "codemirror_mode": {
    "name": "ipython",
    "version": 3
   },
   "file_extension": ".py",
   "mimetype": "text/x-python",
   "name": "python",
   "nbconvert_exporter": "python",
   "pygments_lexer": "ipython3",
   "version": "3.8.3"
  }
 },
 "nbformat": 4,
 "nbformat_minor": 4
}
