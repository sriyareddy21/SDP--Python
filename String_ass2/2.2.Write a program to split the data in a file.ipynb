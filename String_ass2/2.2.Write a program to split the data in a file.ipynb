{
 "cells": [
  {
   "cell_type": "code",
   "execution_count": null,
   "metadata": {},
   "outputs": [],
   "source": [
    "# def split_string(string):\n",
    "    list_string=string.split('')\n",
    "    return list_string\n",
    "def join_string(list_string):\n",
    "    string='-'.join(list_string)\n",
    "    return string\n",
    "if__name__== '__main_ _'\n",
    "    string = 'Happyis Happy'\n",
    "    list_string=split_string(string)\n",
    "    print(list_string)\n",
    "    new_string=join_string(list_string)\n",
    "    print(new_string)"
   ]
  },
  {
   "cell_type": "code",
   "execution_count": null,
   "metadata": {},
   "outputs": [],
   "source": []
  },
  {
   "cell_type": "code",
   "execution_count": null,
   "metadata": {},
   "outputs": [],
   "source": []
  }
 ],
 "metadata": {
  "kernelspec": {
   "display_name": "Python 3",
   "language": "python",
   "name": "python3"
  },
  "language_info": {
   "codemirror_mode": {
    "name": "ipython",
    "version": 3
   },
   "file_extension": ".py",
   "mimetype": "text/x-python",
   "name": "python",
   "nbconvert_exporter": "python",
   "pygments_lexer": "ipython3",
   "version": "3.8.3"
  }
 },
 "nbformat": 4,
 "nbformat_minor": 4
}
