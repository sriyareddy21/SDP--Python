{
 "cells": [
  {
   "cell_type": "code",
   "execution_count": 1,
   "metadata": {},
   "outputs": [
    {
     "name": "stdout",
     "output_type": "stream",
     "text": [
      "\n",
      " Dictionary with the use of integer keys:\n",
      "{1: 'Geeks', 2: 'for', 3: 'Geeks'}\n",
      "\n",
      " Dictionary with the use of mixed keys:\n",
      "{'Name': 'Geeks', 1: [1, 2, 3, 4]}\n"
     ]
    }
   ],
   "source": [
    "Dict = {1 : 'Geeks',2: 'for', 3: 'Geeks'}\n",
    "print(\"\\n Dictionary with the use of integer keys:\")\n",
    "print(Dict)\n",
    "Dict = {'Name':'Geeks', 1: [1,2,3,4,]}\n",
    "print(\"\\n Dictionary with the use of mixed keys:\")\n",
    "print(Dict)"
   ]
  },
  {
   "cell_type": "code",
   "execution_count": null,
   "metadata": {},
   "outputs": [],
   "source": []
  }
 ],
 "metadata": {
  "kernelspec": {
   "display_name": "Python 3",
   "language": "python",
   "name": "python3"
  },
  "language_info": {
   "codemirror_mode": {
    "name": "ipython",
    "version": 3
   },
   "file_extension": ".py",
   "mimetype": "text/x-python",
   "name": "python",
   "nbconvert_exporter": "python",
   "pygments_lexer": "ipython3",
   "version": "3.8.3"
  }
 },
 "nbformat": 4,
 "nbformat_minor": 4
}
