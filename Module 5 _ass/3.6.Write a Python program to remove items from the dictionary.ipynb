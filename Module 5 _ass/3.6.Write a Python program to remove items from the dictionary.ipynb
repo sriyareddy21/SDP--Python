{
 "cells": [
  {
   "cell_type": "code",
   "execution_count": 3,
   "metadata": {},
   "outputs": [
    {
     "name": "stdout",
     "output_type": "stream",
     "text": [
      "the dictionary before performing remove operation:{'yeshu': 23, 'krishna': 45, 'ramana': 56, 'mani': 19}\n",
      "the dictionary after performing remove operation:{'yeshu': 23, 'krishna': 45, 'ramana': 56}\n"
     ]
    }
   ],
   "source": [
    "test_dict ={\"yeshu\": 23,\"krishna\":45, \"ramana\":56,\"mani\":19}\n",
    "print(\"the dictionary before performing remove operation:\" +str(test_dict))\n",
    "del test_dict['mani']\n",
    "print(\"the dictionary after performing remove operation:\" +str(test_dict))\n"
   ]
  },
  {
   "cell_type": "code",
   "execution_count": null,
   "metadata": {},
   "outputs": [],
   "source": []
  }
 ],
 "metadata": {
  "kernelspec": {
   "display_name": "Python 3",
   "language": "python",
   "name": "python3"
  },
  "language_info": {
   "codemirror_mode": {
    "name": "ipython",
    "version": 3
   },
   "file_extension": ".py",
   "mimetype": "text/x-python",
   "name": "python",
   "nbconvert_exporter": "python",
   "pygments_lexer": "ipython3",
   "version": "3.8.3"
  }
 },
 "nbformat": 4,
 "nbformat_minor": 4
}
