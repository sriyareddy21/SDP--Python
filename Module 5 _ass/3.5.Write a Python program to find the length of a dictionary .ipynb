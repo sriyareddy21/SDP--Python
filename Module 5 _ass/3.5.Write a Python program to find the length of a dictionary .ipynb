{
 "cells": [
  {
   "cell_type": "code",
   "execution_count": 1,
   "metadata": {},
   "outputs": [
    {
     "name": "stdout",
     "output_type": "stream",
     "text": [
      "len() method : 3\n",
      "len() method with keys(): 3\n",
      "len() method with values(): 3\n"
     ]
    }
   ],
   "source": [
    "dict1 ={'Name':'Yesvitha','Age':23,'Desidnation':'Programmer'}\n",
    "print(\"len() method :\", len(dict1))\n",
    "print(\"len() method with keys():\", len(dict1.keys()))\n",
    "print(\"len() method with values():\", len(dict1.values()))"
   ]
  },
  {
   "cell_type": "code",
   "execution_count": null,
   "metadata": {},
   "outputs": [],
   "source": []
  }
 ],
 "metadata": {
  "kernelspec": {
   "display_name": "Python 3",
   "language": "python",
   "name": "python3"
  },
  "language_info": {
   "codemirror_mode": {
    "name": "ipython",
    "version": 3
   },
   "file_extension": ".py",
   "mimetype": "text/x-python",
   "name": "python",
   "nbconvert_exporter": "python",
   "pygments_lexer": "ipython3",
   "version": "3.8.3"
  }
 },
 "nbformat": 4,
 "nbformat_minor": 4
}
