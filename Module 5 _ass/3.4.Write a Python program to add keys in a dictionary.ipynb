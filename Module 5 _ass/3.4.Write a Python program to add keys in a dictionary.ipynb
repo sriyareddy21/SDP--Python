{
 "cells": [
  {
   "cell_type": "code",
   "execution_count": 1,
   "metadata": {},
   "outputs": [
    {
     "name": "stdout",
     "output_type": "stream",
     "text": [
      "current dict is: {'key1': 'happy', 'key2': 'fill_me'}\n",
      "updated dict is: {'key1': 'happy', 'key2': 'for', 'key3': 'happy'}\n"
     ]
    }
   ],
   "source": [
    "dict = {'key1':'happy', 'key2':'fill_me'}\n",
    "print(\"current dict is:\",dict)\n",
    "dict['key2']='for'\n",
    "dict['key3']='happy'\n",
    "print(\"updated dict is:\",dict)"
   ]
  },
  {
   "cell_type": "code",
   "execution_count": null,
   "metadata": {},
   "outputs": [],
   "source": []
  }
 ],
 "metadata": {
  "kernelspec": {
   "display_name": "Python 3",
   "language": "python",
   "name": "python3"
  },
  "language_info": {
   "codemirror_mode": {
    "name": "ipython",
    "version": 3
   },
   "file_extension": ".py",
   "mimetype": "text/x-python",
   "name": "python",
   "nbconvert_exporter": "python",
   "pygments_lexer": "ipython3",
   "version": "3.8.3"
  }
 },
 "nbformat": 4,
 "nbformat_minor": 4
}
